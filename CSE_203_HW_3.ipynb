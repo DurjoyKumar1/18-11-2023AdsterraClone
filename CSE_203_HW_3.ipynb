{
  "nbformat": 4,
  "nbformat_minor": 0,
  "metadata": {
    "colab": {
      "provenance": [],
      "authorship_tag": "ABX9TyMAMeVoqrOyicZFljpsfxGj",
      "include_colab_link": true
    },
    "kernelspec": {
      "name": "python3",
      "display_name": "Python 3"
    },
    "language_info": {
      "name": "python"
    }
  },
  "cells": [
    {
      "cell_type": "markdown",
      "metadata": {
        "id": "view-in-github",
        "colab_type": "text"
      },
      "source": [
        "<a href=\"https://colab.research.google.com/github/DurjoyKumar1/18-11-2023AdsterraClone/blob/main/CSE_203_HW_3.ipynb\" target=\"_parent\"><img src=\"https://colab.research.google.com/assets/colab-badge.svg\" alt=\"Open In Colab\"/></a>"
      ]
    },
    {
      "cell_type": "code",
      "execution_count": null,
      "metadata": {
        "id": "PrzXJAkp2Yc3"
      },
      "outputs": [],
      "source": [
        "class Node:\n",
        "  def __init__(self,data):\n",
        "    self.data=data\n",
        "    self.next=None\n",
        "\n",
        "class singlyLinkedList:\n",
        "  def __init__(self):\n",
        "    self.head=None\n",
        "    self.size=0\n",
        "\n",
        "  def append(self,data):\n",
        "    new_node=Node(data)\n",
        "    if self.head== None:\n",
        "      self.head=new_node\n",
        "    else:\n",
        "      curent=self.head\n",
        "      while curent.next !=None:\n",
        "        curent=curent.next\n",
        "      curent.next=new_node\n",
        "    self.size+=1\n",
        "  def print_all(self):\n",
        "        current_node = self.head\n",
        "        while current_node!=None:\n",
        "          print(current_node.data, end =  \"->\")\n",
        "          current_node = current_node.next\n",
        "        print()\n",
        ""
      ]
    },
    {
      "cell_type": "code",
      "source": [
        "#ans of questipn 1:\n",
        "def getAverage(Head):\n",
        "    count=0\n",
        "    sum=0\n",
        "    curent=Head\n",
        "    while curent !=None:\n",
        "      count+=1\n",
        "      sum+=curent.data\n",
        "      curent=curent.next\n",
        "    avg = sum/count\n",
        "    return avg\n",
        "sll=singlyLinkedList()\n",
        "sll.append(5)\n",
        "sll.append(6)\n",
        "sll.append(7)\n",
        "sll.append(8)\n",
        "sll.print_all()\n",
        "getAverage(sll.head)"
      ],
      "metadata": {
        "colab": {
          "base_uri": "https://localhost:8080/"
        },
        "id": "7m3tX4KN5rPU",
        "outputId": "52d8bbd8-329f-4f70-d071-9790e15b788b"
      },
      "execution_count": null,
      "outputs": [
        {
          "output_type": "stream",
          "name": "stdout",
          "text": [
            "5->6->7->8->\n"
          ]
        },
        {
          "output_type": "execute_result",
          "data": {
            "text/plain": [
              "6.5"
            ]
          },
          "metadata": {},
          "execution_count": 28
        }
      ]
    },
    {
      "cell_type": "code",
      "source": [
        "#Ans of question 2:\n",
        "def numOfOcurrences(Head,value):\n",
        "  curent=Head\n",
        "  count=0\n",
        "  while curent !=None:\n",
        "    if curent.data ==value:\n",
        "      count +=1\n",
        "    curent=curent.next\n",
        "  return count\n",
        "sll=singlyLinkedList()\n",
        "sll.append(5)\n",
        "sll.append(6)\n",
        "sll.append(5)\n",
        "sll.append(8)\n",
        "sll.append(5)\n",
        "sll.append(7)\n",
        "sll.print_all()\n",
        "numOfOcurrences(sll.head,5)"
      ],
      "metadata": {
        "colab": {
          "base_uri": "https://localhost:8080/"
        },
        "id": "ybGWf_4Tk4QB",
        "outputId": "d0c35781-2e70-4a8d-c30c-f8acac189a45"
      },
      "execution_count": null,
      "outputs": [
        {
          "output_type": "stream",
          "name": "stdout",
          "text": [
            "5->6->5->8->5->7->\n"
          ]
        },
        {
          "output_type": "execute_result",
          "data": {
            "text/plain": [
              "3"
            ]
          },
          "metadata": {},
          "execution_count": 29
        }
      ]
    },
    {
      "cell_type": "code",
      "source": [
        "#Ans of question 3:\n",
        "\n",
        "def checkEquality(sll1,sll2):\n",
        "  if sll1.size==sll2.size:\n",
        "    curent1=sll1.head\n",
        "    curent2=sll2.head\n",
        "    while curent1.next is not None:\n",
        "      if curent1.data!=curent2.data:\n",
        "        return False\n",
        "      curent1=curent1.next\n",
        "      curent2=curent2.next\n",
        "\n",
        "    return True\n",
        "  else:\n",
        "    return False\n",
        "\n",
        "sll1=singlyLinkedList()\n",
        "sll2=singlyLinkedList()\n",
        "sll1.append(7)\n",
        "sll1.append(6)\n",
        "sll1.append(10)\n",
        "sll1.append(11)\n",
        "sll1.print_all()\n",
        "sll2.append(7)\n",
        "sll2.append(6)\n",
        "sll2.append(10)\n",
        "sll2.append(11)\n",
        "sll2.print_all()\n",
        "checkEquality(sll1,sll2)"
      ],
      "metadata": {
        "colab": {
          "base_uri": "https://localhost:8080/"
        },
        "id": "ULXyUQRwEyhD",
        "outputId": "aba74a02-1677-4d6b-9c10-900275bc03a8"
      },
      "execution_count": null,
      "outputs": [
        {
          "output_type": "stream",
          "name": "stdout",
          "text": [
            "7->6->10->11->\n",
            "7->6->10->11->\n"
          ]
        },
        {
          "output_type": "execute_result",
          "data": {
            "text/plain": [
              "True"
            ]
          },
          "metadata": {},
          "execution_count": 30
        }
      ]
    },
    {
      "cell_type": "code",
      "source": [
        "#ans of question 4:\n",
        "\n",
        "class Node:\n",
        "  def __init__(self,data):\n",
        "    self.data=data\n",
        "    self.next=None\n",
        "\n",
        "class singlyLinkedList:\n",
        "  def __init__(self):\n",
        "    self.head=None\n",
        "    self.size=0\n",
        "\n",
        "  def append(self,data):\n",
        "    new_node=Node(data)\n",
        "    if self.head== None:\n",
        "      self.head=new_node\n",
        "    else:\n",
        "      curent=self.head\n",
        "      while curent.next !=None:\n",
        "        curent=curent.next\n",
        "      curent.next=new_node\n",
        "    self.size+=1\n",
        "  def print_all(self):\n",
        "        current_node = self.head\n",
        "        while current_node!=None:\n",
        "          print(current_node.data, end =  \"->\")\n",
        "          current_node = current_node.next\n",
        "        print()\n",
        "  def addNodeBeforeValue (self, givenValue, newValue):\n",
        "    new_node=Node(newValue)\n",
        "    curent=self.head\n",
        "    if curent.data==givenValue:\n",
        "      tmp=curent\n",
        "      self.head=new_node\n",
        "      new_node.next=tmp\n",
        "\n",
        "\n",
        "    else:\n",
        "      while curent.next.data!=givenValue and curent !=None:\n",
        "        curent=curent.next\n",
        "\n",
        "      if curent.next.data==givenValue:\n",
        "        tmp=curent.next\n",
        "        curent.next=new_node\n",
        "        new_node.next=tmp\n",
        "      elif curent.next.data!=givenValue:\n",
        "        print(\"Not Found\")"
      ],
      "metadata": {
        "id": "2dFLq4o8HUjP"
      },
      "execution_count": null,
      "outputs": []
    },
    {
      "cell_type": "code",
      "source": [
        "sll=singlyLinkedList()\n",
        "sll.append(5)\n",
        "sll.append(6)\n",
        "sll.append(7)\n",
        "sll.append(8)\n",
        "sll.print_all()\n",
        "sll.addNodeBeforeValue(6,9)\n",
        "sll.print_all()"
      ],
      "metadata": {
        "colab": {
          "base_uri": "https://localhost:8080/"
        },
        "id": "CGfYpQG8Kstx",
        "outputId": "09291295-dea4-43f2-a15c-80c9cd84cfd5"
      },
      "execution_count": null,
      "outputs": [
        {
          "output_type": "stream",
          "name": "stdout",
          "text": [
            "5->6->7->8->\n",
            "5->9->6->7->8->\n"
          ]
        }
      ]
    },
    {
      "cell_type": "code",
      "source": [
        "#Ans of question 5:\n",
        "\n",
        "class Node:\n",
        "  def __init__(self,data):\n",
        "    self.data=data\n",
        "    self.next=None\n",
        "\n",
        "class singlyLinkedList:\n",
        "  def __init__(self):\n",
        "    self.head=None\n",
        "    self.size=0\n",
        "\n",
        "  def append(self,data):\n",
        "    new_node=Node(data)\n",
        "    if self.head== None:\n",
        "      self.head=new_node\n",
        "    else:\n",
        "      curent=self.head\n",
        "      while curent.next !=None:\n",
        "        curent=curent.next\n",
        "      curent.next=new_node\n",
        "    self.size+=1\n",
        "  def print_all(self):\n",
        "        current_node = self.head\n",
        "        while current_node!=None:\n",
        "          print(current_node.data, end =  \"->\")\n",
        "          current_node = current_node.next\n",
        "        print()\n",
        "  def addNodeBeforeValue (self, givenValue, newValue):\n",
        "    new_node=Node(newValue)\n",
        "    curent=self.head\n",
        "    if curent.data==givenValue:\n",
        "      tmp=curent\n",
        "      self.head=new_node\n",
        "      new_node.next=tmp\n",
        "\n",
        "\n",
        "    else:\n",
        "      while curent.next.data!=givenValue and curent !=None:\n",
        "        curent=curent.next\n",
        "\n",
        "      if curent.next.data==givenValue:\n",
        "        tmp=curent.next\n",
        "        curent.next=new_node\n",
        "        new_node.next=tmp\n",
        "      elif curent.next.data!=givenValue:\n",
        "        print(\"Not Found\")\n",
        "\n",
        "  def deletEven(self):\n",
        "    if self.head ==None:\n",
        "      print(\"The list is empty\")\n",
        "    else:\n",
        "      curent=self.head\n",
        "      prev = None\n",
        "      while curent !=None:\n",
        "\n",
        "        if curent.data%2==0:\n",
        "          if curent==self.head:\n",
        "            self.head=self.head.next\n",
        "          else:\n",
        "            prev.next=curent.next\n",
        "        prev = curent\n",
        "        curent=curent.next"
      ],
      "metadata": {
        "id": "Tl0qh7dNvW-p"
      },
      "execution_count": null,
      "outputs": []
    },
    {
      "cell_type": "code",
      "source": [
        "sll=singlyLinkedList()\n",
        "sll.append(4)\n",
        "sll.append(6)\n",
        "sll.append(7)\n",
        "sll.append(8)\n",
        "sll.print_all()\n",
        "sll.deletEven()\n",
        "sll.print_all()"
      ],
      "metadata": {
        "colab": {
          "base_uri": "https://localhost:8080/"
        },
        "id": "XIu7BRX225lg",
        "outputId": "ac22b41d-3801-4bc5-90b3-4112c4272f69"
      },
      "execution_count": null,
      "outputs": [
        {
          "output_type": "stream",
          "name": "stdout",
          "text": [
            "4->6->7->8->\n",
            "7->\n"
          ]
        }
      ]
    },
    {
      "cell_type": "code",
      "source": [
        "#ans of question 6:\n",
        "\n",
        "class Node:\n",
        "  def __init__(self,data):\n",
        "    self.data=data\n",
        "    self.next=None\n",
        "\n",
        "class singlyLinkedList:\n",
        "  def __init__(self):\n",
        "    self.head=None\n",
        "    self.size=0\n",
        "\n",
        "  def append(self,data):\n",
        "    new_node=Node(data)\n",
        "    if self.head== None:\n",
        "      self.head=new_node\n",
        "    else:\n",
        "      curent=self.head\n",
        "      while curent.next !=None:\n",
        "        curent=curent.next\n",
        "      curent.next=new_node\n",
        "    self.size+=1\n",
        "  def print_all(self):\n",
        "        current_node = self.head\n",
        "        while current_node!=None:\n",
        "          print(current_node.data, end =  \"->\")\n",
        "          current_node = current_node.next\n",
        "        print()\n",
        "  def addNodeBeforeValue (self, givenValue, newValue):\n",
        "    new_node=Node(newValue)\n",
        "    curent=self.head\n",
        "    if curent.data==givenValue:\n",
        "      tmp=curent\n",
        "      self.head=new_node\n",
        "      new_node.next=tmp\n",
        "\n",
        "\n",
        "    else:\n",
        "      while curent.next.data!=givenValue and curent !=None:\n",
        "        curent=curent.next\n",
        "\n",
        "      if curent.next.data==givenValue:\n",
        "        tmp=curent.next\n",
        "        curent.next=new_node\n",
        "        new_node.next=tmp\n",
        "      elif curent.next.data!=givenValue:\n",
        "        print(\"Not Found\")\n",
        "  def sorted_insert(self, v):\n",
        "    new_node=Node(v)\n",
        "    curent=self.head\n",
        "    if self.head.data> v:\n",
        "      new_node.next=self.head\n",
        "      self.head=new_node\n",
        "\n",
        "    else:\n",
        "      while curent.data<v and curent.next !=None:\n",
        "        curent=curent.next\n",
        "      tmp=curent.next\n",
        "      curent.next=new_node\n",
        "      new_node.next=tmp"
      ],
      "metadata": {
        "id": "IfyRM-8obij2"
      },
      "execution_count": null,
      "outputs": []
    },
    {
      "cell_type": "code",
      "source": [
        "sll=singlyLinkedList()\n",
        "sll.append(4)\n",
        "sll.append(6)\n",
        "sll.append(7)\n",
        "sll.append(8)\n",
        "sll.print_all()\n",
        "sll.sorted_insert(9)\n",
        "sll.print_all()"
      ],
      "metadata": {
        "colab": {
          "base_uri": "https://localhost:8080/"
        },
        "id": "iXxikrBIbV8u",
        "outputId": "a813e7ba-356d-4c90-c761-5886a79c88f7"
      },
      "execution_count": null,
      "outputs": [
        {
          "output_type": "stream",
          "name": "stdout",
          "text": [
            "4->6->7->8->\n",
            "4->6->7->8->9->\n"
          ]
        }
      ]
    },
    {
      "cell_type": "code",
      "source": [
        "#Ans of question 7:\n",
        "\n",
        "def reverse(Head):\n",
        "    current_node = Head\n",
        "    prev = None\n",
        "\n",
        "    while(current_node is not None):\n",
        "            next = current_node.next\n",
        "            current_node.next = prev\n",
        "            prev = current_node\n",
        "            current_node = next\n",
        "    return prev\n",
        "\n",
        "\n",
        "s = singlyLinkedList()\n",
        "s.append(10)\n",
        "s.append(91)\n",
        "s.append(19)\n",
        "s.append(20)\n",
        "s.append(19)\n",
        "s.append(11)\n",
        "s.append(100)\n",
        "s.append(200)\n",
        "s.print_all()\n",
        "s.head = reverse(s.head)\n",
        "s.print_all()\n",
        ""
      ],
      "metadata": {
        "colab": {
          "base_uri": "https://localhost:8080/"
        },
        "id": "gwhkOghcQnik",
        "outputId": "8488e6d2-95ed-4069-a956-66b659845fa3"
      },
      "execution_count": null,
      "outputs": [
        {
          "output_type": "stream",
          "name": "stdout",
          "text": [
            "10->91->19->20->19->11->100->200->\n",
            "200->100->11->19->20->19->91->10->\n"
          ]
        }
      ]
    },
    {
      "cell_type": "code",
      "source": [
        "#DoublyLinkedList\n",
        "#Ans of question 8:\n",
        "\n",
        "class Node:\n",
        "  def __init__(self,data):\n",
        "    self.data=data\n",
        "    self.next=None\n",
        "    self.prev=None\n",
        "\n",
        "class doublyLinkedList:\n",
        "  def __init__(self):\n",
        "    self.head=None\n",
        "    self.tail=None\n",
        "    self.size=0\n",
        "\n",
        "  def append(self,data):\n",
        "    new_node=Node(data)\n",
        "    if self.head ==None:\n",
        "      self.head=new_node\n",
        "      self.tail=new_node\n",
        "    else:\n",
        "      self.tail.next=new_node\n",
        "      new_node.prev=self.tail\n",
        "      self.tail=new_node\n",
        "    self.size +=1\n",
        "\n",
        "  def print_all(self):\n",
        "        current_node = self.head\n",
        "        while current_node!=None:\n",
        "          print(current_node.data, end =  \"<--->\")\n",
        "          current_node = current_node.next\n",
        "        print()\n",
        "\n",
        "  def addNodeAfterValue(self,givenvalue,newvalue):\n",
        "    new_node=Node(newvalue)\n",
        "    if self.tail==givenvalue:\n",
        "      self.tail.next=new_node\n",
        "      new_node.prev=self.tail\n",
        "      self.tail=new_node\n",
        "\n",
        "    else:\n",
        "      curent=self.head\n",
        "      while curent !=None:\n",
        "        if curent.data==givenvalue:\n",
        "          new_node.next=curent.next\n",
        "          curent.next=new_node\n",
        "          curent.next.prev=new_node\n",
        "          new_node.prev=curent\n",
        "          self.size +=1\n",
        "        else:\n",
        "          print(\"Not Found\")\n",
        "        curent=curent.next"
      ],
      "metadata": {
        "id": "CuLN6Rf20rwP"
      },
      "execution_count": null,
      "outputs": []
    },
    {
      "cell_type": "code",
      "source": [
        "dll=doublyLinkedList()\n",
        "dll.append(1)\n",
        "dll.append(2)\n",
        "dll.append(3)\n",
        "dll.print_all()\n",
        "dll.addNodeAfterValue(2,4)\n",
        "dll.addNodeAfterValue(4,6)\n",
        "dll.addNodeAfterValue(8,9)\n",
        "dll.print_all()"
      ],
      "metadata": {
        "colab": {
          "base_uri": "https://localhost:8080/"
        },
        "id": "JmuJc7CR7rZk",
        "outputId": "cfbbdfd8-da74-4d34-ce12-fa31b286aa65"
      },
      "execution_count": null,
      "outputs": [
        {
          "output_type": "stream",
          "name": "stdout",
          "text": [
            "1<--->2<--->3<--->\n",
            "Not Found\n",
            "Not Found\n",
            "Not Found\n",
            "Not Found\n",
            "Not Found\n",
            "Not Found\n",
            "Not Found\n",
            "Not Found\n",
            "Not Found\n",
            "Not Found\n",
            "Not Found\n",
            "Not Found\n",
            "1<--->2<--->4<--->6<--->3<--->\n"
          ]
        }
      ]
    },
    {
      "cell_type": "code",
      "source": [
        "#Ans of question 9:\n",
        "#DoublyLinkedList\n",
        "\n",
        "\n",
        "class Node:\n",
        "  def __init__(self,data):\n",
        "    self.data=data\n",
        "    self.next=None\n",
        "    self.prev=None\n",
        "\n",
        "class doublyLinkedList:\n",
        "  def __init__(self):\n",
        "    self.head=None\n",
        "    self.tail=None\n",
        "    self.size=0\n",
        "\n",
        "  def append(self,data):\n",
        "    new_node=Node(data)\n",
        "    if self.head ==None:\n",
        "      self.head=new_node\n",
        "      self.tail=new_node\n",
        "    else:\n",
        "      self.tail.next=new_node\n",
        "      new_node.prev=self.tail\n",
        "      self.tail=new_node\n",
        "    self.size +=1\n",
        "\n",
        "  def print_all(self):\n",
        "        current_node = self.head\n",
        "        while current_node!=None:\n",
        "          print(current_node.data, end =  \"<--->\")\n",
        "          current_node = current_node.next\n",
        "        print()\n",
        "\n",
        "  def addNodeAfterValue(self,givenvalue,newvalue):\n",
        "    new_node=Node(newvalue)\n",
        "    if self.tail==givenvalue:\n",
        "      self.tail.next=new_node\n",
        "      new_node.prev=self.tail\n",
        "      self.tail=new_node\n",
        "\n",
        "    else:\n",
        "      curent=self.head\n",
        "      while curent !=None:\n",
        "        if curent.data==givenvalue:\n",
        "          new_node.next=curent.next\n",
        "          curent.next=new_node\n",
        "          curent.next.prev=new_node\n",
        "          new_node.prev=curent\n",
        "          self.size +=1\n",
        "        else:\n",
        "          print(\"Not Found\")\n",
        "        curent=curent.next\n",
        "\n",
        "  def sortedValuee(self,value):\n",
        "    new_node=Node(value)\n",
        "\n",
        "    if self.head==None:\n",
        "      self.head=new_node\n",
        "      self.tail=new_node\n",
        "    elif self.head.data>value:\n",
        "      new_node.next=self.head\n",
        "      self.head.prev=new_node\n",
        "      self.head=new_node\n",
        "\n",
        "    elif self.tail.data<value:\n",
        "      self.tail.next=new_node\n",
        "      new_node.prev=self.tail\n",
        "      self.tail=new_node\n",
        "\n",
        "    else:\n",
        "      curent=self.head\n",
        "      while curent !=None:\n",
        "        if curent.data>value:\n",
        "          new_node.next=curent\n",
        "          curent.prev.next=new_node\n",
        "          curent.prev=new_node\n",
        "          new_node.prev=curent.prev\n",
        "        curent=curent.next\n",
        "    self.size +=1"
      ],
      "metadata": {
        "id": "FqF_kPcLZdtc"
      },
      "execution_count": null,
      "outputs": []
    },
    {
      "cell_type": "code",
      "source": [
        "dll=doublyLinkedList()\n",
        "dll.append(1)\n",
        "dll.append(2)\n",
        "dll.append(4)\n",
        "dll.print_all()\n",
        "dll.sortedValuee(3)\n",
        "dll.print_all()\n",
        "dll.sortedValuee(0)\n",
        "dll.print_all()\n",
        "dll.sortedValuee(10)\n",
        "dll.print_all()"
      ],
      "metadata": {
        "colab": {
          "base_uri": "https://localhost:8080/"
        },
        "id": "Z-2vDNcweD7W",
        "outputId": "8ab1f79f-b3a0-4fd1-c75d-92a20c0f9503"
      },
      "execution_count": null,
      "outputs": [
        {
          "output_type": "stream",
          "name": "stdout",
          "text": [
            "1<--->2<--->4<--->\n",
            "1<--->2<--->3<--->4<--->\n",
            "0<--->1<--->2<--->3<--->4<--->\n",
            "0<--->1<--->2<--->3<--->4<--->10<--->\n"
          ]
        }
      ]
    }
  ]
}