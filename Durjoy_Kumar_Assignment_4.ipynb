{
  "nbformat": 4,
  "nbformat_minor": 0,
  "metadata": {
    "colab": {
      "provenance": [],
      "include_colab_link": true
    },
    "kernelspec": {
      "name": "python3",
      "display_name": "Python 3"
    },
    "language_info": {
      "name": "python"
    }
  },
  "cells": [
    {
      "cell_type": "markdown",
      "metadata": {
        "id": "view-in-github",
        "colab_type": "text"
      },
      "source": [
        "<a href=\"https://colab.research.google.com/github/DurjoyKumar1/18-11-2023AdsterraClone/blob/main/Durjoy_Kumar_Assignment_4.ipynb\" target=\"_parent\"><img src=\"https://colab.research.google.com/assets/colab-badge.svg\" alt=\"Open In Colab\"/></a>"
      ]
    },
    {
      "cell_type": "markdown",
      "source": [
        "#**Assignment 4**\n",
        "\n",
        "**Name**: Durjoy Kumar\n",
        "\n",
        "**ID**: 2221126\n",
        "\n",
        "**Section**: 12\n",
        "\n",
        "---\n",
        "\n"
      ],
      "metadata": {
        "id": "X8D4piECzwm9"
      }
    },
    {
      "cell_type": "markdown",
      "source": [
        "**1. Write a Python program which takes a string as user input and count the number of characters in that string without using len() function.**\n",
        "\n",
        "S#   |Input\t                        |\tOutput\n",
        "-----|------------------------------|-------------------------------\n",
        "(i)  |Enter a string: sdfg1234%\t|Number of characters: 9\n",
        "     |Enter a string: abcd efg\t\t|Number of characters: 8"
      ],
      "metadata": {
        "id": "AU0sfjTA-tYL"
      }
    },
    {
      "cell_type": "code",
      "execution_count": null,
      "metadata": {
        "colab": {
          "base_uri": "https://localhost:8080/"
        },
        "id": "_vFYz5aY-crh",
        "outputId": "17a1b195-9a7c-425b-f6c0-0a2733280b5a"
      },
      "outputs": [
        {
          "output_type": "stream",
          "name": "stdout",
          "text": [
            "Enter a string: jjidtof686\n",
            "10\n"
          ]
        }
      ],
      "source": [
        "# Write your code here\n",
        "a=input(\"Enter a string: \")\n",
        "b=0\n",
        "for i in a:\n",
        "    b=b+1\n",
        "print(b)"
      ]
    },
    {
      "cell_type": "markdown",
      "source": [
        "**2. Write a Python program that makes a string of the first 2 and the last 2 chars from a given a string (user input). If the string length is less than 2, print a empty string [An empty string is represented as \"\" ].**\n",
        "\n",
        "S#   |Input\t                        |\tOutput\n",
        "-----|------------------------------|-------------------------------\n",
        "(i)  |Enter your string: CSE101\t    |Result: CS01\n",
        "(ii) |Enter your string: ab\t\t      |Result: abab\n",
        "(iii)|Enter your string: a\t\t      |Result:"
      ],
      "metadata": {
        "id": "5xghtnQ6Bvc0"
      }
    },
    {
      "cell_type": "code",
      "source": [
        "# Write your code here\n",
        "a= input(\"Enter a string: \")\n",
        "b=len(a)\n",
        "\n",
        "if b>=2:\n",
        "    for i in range (0,2):\n",
        "         print(a[i],end=\"\")\n",
        "    for i in range (-2,0):\n",
        "        print(a[i], end=\"\")\n",
        "\n",
        "else:\n",
        "        print(\"'''\")"
      ],
      "metadata": {
        "colab": {
          "base_uri": "https://localhost:8080/"
        },
        "id": "-mQRnHjELkrp",
        "outputId": "c1961b4d-c5e4-479d-caf2-58303d4eff45"
      },
      "execution_count": null,
      "outputs": [
        {
          "output_type": "stream",
          "name": "stdout",
          "text": [
            "Enter a string: CSC101\n",
            "CS01"
          ]
        }
      ]
    },
    {
      "cell_type": "markdown",
      "source": [
        "**3. Write a Python program to get a string from an user given string where all occurrences of its first char have been changed to '@', except the first char itself.**\n",
        "\n",
        "S#   |Input\t                        |\tOutput\n",
        "-----|------------------------------|-------------------------------\n",
        "(i)  |Enter your string: opposite\t  |Changed string: opp@site\n",
        "(ii) |Enter your string: abababa\t\t|Changed string: ab@b@b@"
      ],
      "metadata": {
        "id": "b2EaAgUGMWXx"
      }
    },
    {
      "cell_type": "code",
      "source": [
        "# Write your code here\n",
        "string=input(\"enter a string: \")\n",
        "b=string[0]\n",
        "\n",
        "for i in string:\n",
        "  if b==i:\n",
        "    c= string.replace(i,\"@\")\n",
        "print(b+c[1:])"
      ],
      "metadata": {
        "colab": {
          "base_uri": "https://localhost:8080/"
        },
        "id": "kx1g8oxYRt1q",
        "outputId": "b0e3f93e-e502-415d-ce74-f2e7514754aa"
      },
      "execution_count": null,
      "outputs": [
        {
          "output_type": "stream",
          "name": "stdout",
          "text": [
            "enter a string: abababa\n",
            "ab@b@b@\n"
          ]
        }
      ]
    },
    {
      "cell_type": "markdown",
      "source": [
        "**4. Write a Python program to add 'ing' at the end of an user given string (length should be at least 3). If the given string already ends with 'ing' then add 'ly' instead of 'ing'. If the string length of the given string is less than 3, leave it unchanged.**\n",
        "\n",
        "S#   |Input\t                        |\tOutput\n",
        "-----|------------------------------|-------------------------------\n",
        "(i)  |Enter a string: abc\t          |abcing\n",
        "(ii)  |Enter a string: string\t\t    |stringly\n",
        "(iii) |Enter a string: oh\t      |oh"
      ],
      "metadata": {
        "id": "CUkBbkN1Se9y"
      }
    },
    {
      "cell_type": "code",
      "source": [
        "# Write your code here\n",
        "string=input(\"Enter a string: \")\n",
        "if len(string)>=3:\n",
        "    for i in range(-3,0):\n",
        "      a=string[i]\n",
        "      a=a.replace(\"\\n\",\"\")\n",
        "      if a==\"ing\":\n",
        "          print(string+\"ly\")\n",
        "      elif a!=\"ing\":\n",
        "          print(string+\"ing\")\n",
        "else:\n",
        "    print(string)"
      ],
      "metadata": {
        "id": "KXI_vR4AUEWJ",
        "colab": {
          "base_uri": "https://localhost:8080/"
        },
        "outputId": "2ad4884c-9ce7-410b-8da7-1b65b9293458"
      },
      "execution_count": null,
      "outputs": [
        {
          "output_type": "stream",
          "name": "stdout",
          "text": [
            "Enter a string: durjoy\n",
            "durjoying\n",
            "durjoying\n",
            "durjoying\n"
          ]
        }
      ]
    },
    {
      "cell_type": "markdown",
      "source": [
        "**5. Write a Python program that takes two strings as user input, swape the first two characters of each string and concatenate them. If one of the given strings length is less than 2 then just concatenate them.**\n",
        "\n",
        "S#   |Input\t                        |\tOutput\n",
        "-----|------------------------------|-------------------------------\n",
        "(i)  |Enter string1: abc\t          |12cab3\n",
        "     |Enter string2: 123\t          |\n",
        "(ii) |Enter string1: mid\t\t        |fidminal\n",
        "     |Enter string2: final\t        |\n",
        "(iii)|Enter string1: c  \t\t        |csc101\n",
        "     |Enter string2: sc101\t        |"
      ],
      "metadata": {
        "id": "3zUaoox_UGDg"
      }
    },
    {
      "cell_type": "code",
      "source": [
        "# Write your code here\n",
        "string1=input(\"Enter a string: \")\n",
        "string2=input(\"Enter a string: \")\n",
        "if len(string1)>=2 and len(string2)>=2:\n",
        "    for i in range (0,len(string1)):\n",
        "      a=string1[i]\n",
        "      b=string1[len(string1)::-1]\n",
        "      c=len(string2)\n",
        "    print (string2[0:2]+b+string2[2:])\n",
        "else:\n",
        "    print(string1+string2)\n",
        "\n",
        ""
      ],
      "metadata": {
        "id": "olzHQgqyUSkk",
        "colab": {
          "base_uri": "https://localhost:8080/"
        },
        "outputId": "b3f374ad-a55e-47ee-f71e-2d0035414550"
      },
      "execution_count": null,
      "outputs": [
        {
          "output_type": "stream",
          "name": "stdout",
          "text": [
            "Enter a string: durjoy\n",
            "Enter a string: 256\n",
            "25yojrud6\n"
          ]
        }
      ]
    },
    {
      "cell_type": "markdown",
      "source": [
        "**6. Write a Python program that takes a string as user input and exchange the first and last characters of the given string.**\n",
        "\n",
        "S#   |Input\t                        |\tOutput\n",
        "-----|------------------------------|-------------------------------\n",
        "(i)  |Enter a string: abcdef\t        |fbcdea\n",
        "(ii) |Enter a string: student\t\t      |ttudents\n"
      ],
      "metadata": {
        "id": "WyFf5DrgeIUq"
      }
    },
    {
      "cell_type": "code",
      "source": [
        "# Write your code here\n",
        "string1=input(\"Enter a string: \")\n",
        "print(string1[len(string1)-1:]+string1[1:len(string1)-1]+ string1[0:1])"
      ],
      "metadata": {
        "id": "tm8DdpCqUST5",
        "colab": {
          "base_uri": "https://localhost:8080/"
        },
        "outputId": "9415f3ef-cf7b-46c5-bdc8-bf56bbd031f3"
      },
      "execution_count": null,
      "outputs": [
        {
          "output_type": "stream",
          "name": "stdout",
          "text": [
            "Enter a string: student\n",
            "ttudens\n"
          ]
        }
      ]
    },
    {
      "cell_type": "markdown",
      "source": [
        "**7. Write a Python program that takes a string as user input and remove the characters which have even index values.**\n",
        "\n",
        "S#   |Input\t                        |\tOutput\n",
        "-----|------------------------------|-------------------------------\n",
        "(i)  |Enter a string: csc101\t        |s11\n",
        "(ii) |Enter a string: student\t\t      |tdn"
      ],
      "metadata": {
        "id": "f_QMZBMRgiNc"
      }
    },
    {
      "cell_type": "code",
      "source": [
        "# Write your code here\n",
        "string=input(\"Enter a string: \")\n",
        "for i in range(1,len(string),2):\n",
        "  print(string[i], end=\"\")"
      ],
      "metadata": {
        "id": "oWQQG3rhUSAh",
        "colab": {
          "base_uri": "https://localhost:8080/"
        },
        "outputId": "81d7b592-78c1-47e2-870a-c73f9d8f0c93"
      },
      "execution_count": null,
      "outputs": [
        {
          "output_type": "stream",
          "name": "stdout",
          "text": [
            "Enter a string: csc101\n",
            "s11"
          ]
        }
      ]
    },
    {
      "cell_type": "markdown",
      "source": [
        "**8. Write a Python program that takes a string as user input and count the total number of words in that string.**\n",
        "\n",
        "S#   |Input\t                        |\tOutput\n",
        "-----|------------------------------|-------------------------------\n",
        "(i)  |Enter a string: i am a student |4\n",
        "(ii) |Enter a string: student        |1"
      ],
      "metadata": {
        "id": "aO56dzxwhies"
      }
    },
    {
      "cell_type": "code",
      "source": [
        "# Write your code here\n",
        "a=input(\"Enter a string: \")\n",
        "b=0\n",
        "for i in a:\n",
        "    if \" \"==i:\n",
        "     b=b+1\n",
        "print(b+1)"
      ],
      "metadata": {
        "id": "7NNDQs5IURv6",
        "colab": {
          "base_uri": "https://localhost:8080/"
        },
        "outputId": "d911bfcb-5eb5-4839-ca57-6ba72bb6d63f"
      },
      "execution_count": null,
      "outputs": [
        {
          "output_type": "stream",
          "name": "stdout",
          "text": [
            "Enter a string: student\n",
            "1\n"
          ]
        }
      ]
    },
    {
      "cell_type": "markdown",
      "source": [
        "**9. Write a Python program that count the occurrences of each word in a given sentence(user input).**\n",
        "\n",
        "S#   |Input\t                        |\tOutput\n",
        "-----|------------------------------|-------------------------------\n",
        "(i)  |Enter a string: a b a c\t      |a: 2\n",
        "     |                  \t\t        |b: 1\n",
        "     |                  \t\t        |c: 1"
      ],
      "metadata": {
        "id": "XfJ7G_0Ui4eD"
      }
    },
    {
      "cell_type": "code",
      "source": [
        "# Write your code here\n",
        "string=input(\"Enter a string: \")\n",
        "count=0\n",
        "for i in string:\n",
        "  if \" \"==i:\n",
        "    count=count+1\n",
        "print(count+1)"
      ],
      "metadata": {
        "id": "DHcmJgCZURax",
        "colab": {
          "base_uri": "https://localhost:8080/"
        },
        "outputId": "8c0c8348-a4f0-4d71-c087-1fef4a105f47"
      },
      "execution_count": null,
      "outputs": [
        {
          "output_type": "stream",
          "name": "stdout",
          "text": [
            "Enter a string: my naem is durjoy kumar\n",
            "5\n"
          ]
        }
      ]
    },
    {
      "cell_type": "markdown",
      "source": [
        "**10. Write a Python program that takes input from the user and displays that string in upper and lower cases.**\n",
        "\n",
        "S#   |Input\t                        |\tOutput\n",
        "-----|------------------------------|-------------------------------\n",
        "(i)  |Enter a string: a b A C\t        |Upper case: A B A C\n",
        "     |                  \t\t        |Lower case: a b a c"
      ],
      "metadata": {
        "id": "fF1VSJ23kE_i"
      }
    },
    {
      "cell_type": "code",
      "source": [
        "# Write your code here\n",
        "a=input(\"Enter a string: \")\n",
        "b=a.lower()\n",
        "c=a.upper()\n",
        "print(\"lower case: \", b)\n",
        "print(\"Upper case: \", c)"
      ],
      "metadata": {
        "id": "uhJfZQiBURLA",
        "colab": {
          "base_uri": "https://localhost:8080/"
        },
        "outputId": "0a1f23f6-a09f-4fdd-ea2d-279ed531c57a"
      },
      "execution_count": null,
      "outputs": [
        {
          "output_type": "stream",
          "name": "stdout",
          "text": [
            "Enter a string: hi I am Durjoy Kumar\n",
            "lower case:  hi i am durjoy kumar\n",
            "Upper case:  HI I AM DURJOY KUMAR\n"
          ]
        }
      ]
    },
    {
      "cell_type": "markdown",
      "source": [
        "**11. Write a Python program that takes a string as user input and reverses the string if it's length is a multiple of 4..**\n",
        "\n",
        "S#   |Input\t                        |\tOutput\n",
        "-----|------------------------------|-------------------------------\n",
        "(i)  |Enter a string: a b a cd      |dc a b a\n",
        "(ii) |Enter a string: abc           |abc"
      ],
      "metadata": {
        "id": "CwqGjQoTk93Y"
      }
    },
    {
      "cell_type": "code",
      "source": [
        "# Write your code here\n",
        "a=input(\"Enter a string: \")\n",
        "b=0\n",
        "for i in a:\n",
        "    b=b+1\n",
        "if b%4==0:\n",
        "    reverse=a[::-1]\n",
        "    print(\"Reverse: \",reverse)\n",
        "else:\n",
        "    print(a)\n"
      ],
      "metadata": {
        "id": "ctGisI2-UQ7B",
        "colab": {
          "base_uri": "https://localhost:8080/"
        },
        "outputId": "3f48b7ad-c542-4516-99b0-fa058ad5084f"
      },
      "execution_count": null,
      "outputs": [
        {
          "output_type": "stream",
          "name": "stdout",
          "text": [
            "Enter a string: hjdjskks\n",
            "Reverse:  skksjdjh\n"
          ]
        }
      ]
    },
    {
      "cell_type": "markdown",
      "source": [
        "**12. Write a Python program that takes a string as user input and reverse the words in that string.**\n",
        "\n",
        "Hints: [Use the concept of split()](https://www.geeksforgeeks.org/python-string-split/)\n",
        "\n",
        "S#   |Input\t                        |\tOutput\n",
        "-----|------------------------------|-------------------------------\n",
        "(i)  |Enter a string: dora cake\t    |cake dora\n",
        "(ii) |Enter a string: i am shinchan?|shinchan? am i"
      ],
      "metadata": {
        "id": "QNoLk_nDWoqI"
      }
    },
    {
      "cell_type": "code",
      "source": [
        "# Write your code here\n",
        "string=input(\"Enter a string: \")\n",
        "sep= string.split()\n",
        "sep=(reversed(sep))\n",
        "print(\" \".join(sep))"
      ],
      "metadata": {
        "id": "o4P_A__xUQp7",
        "colab": {
          "base_uri": "https://localhost:8080/"
        },
        "outputId": "f065afae-cfd8-44e7-b80b-5b0db018bd2e"
      },
      "execution_count": null,
      "outputs": [
        {
          "output_type": "stream",
          "name": "stdout",
          "text": [
            "Enter a string: hello friends\n",
            "friends hello\n"
          ]
        }
      ]
    },
    {
      "cell_type": "markdown",
      "source": [
        "**12. Write a Python program that takes a string as user input. Now count the repeated characters in the given string and display the count of repeated characters.**\n",
        "\n",
        "S#   |Input\t                        |\tOutput\n",
        "-----|------------------------------|-------------------------------\n",
        "(i)  |Enter a string: nobita-doraemon please help me??|n 2\n",
        "     |                              | o 3\n",
        "     |                              | a 3\n",
        "     |                              | e 5\n",
        "     |                              | m 2\n",
        "     |                              | p 2\n",
        "     |                              | l 2\n",
        "     |                              | ? 2"
      ],
      "metadata": {
        "id": "tksFnCtiaQrA"
      }
    },
    {
      "cell_type": "code",
      "source": [
        "# Write your code here\n",
        "string1=input(\"Enter a string: \")\n",
        "for i in string1:\n",
        "  for j in string1:\n",
        "    if i==j:\n",
        "      a=i\n",
        "    elif i!=j:\n",
        "      b=i\n",
        "print(\"repeated char: \",a)\n",
        "print(\"Single char: \",b)"
      ],
      "metadata": {
        "id": "XP8-_M1_UQXa",
        "colab": {
          "base_uri": "https://localhost:8080/"
        },
        "outputId": "ece9332c-fe3c-4ee7-d57c-9b6f4df7e3d5"
      },
      "execution_count": null,
      "outputs": [
        {
          "output_type": "stream",
          "name": "stdout",
          "text": [
            "Enter a string: durjoyd\n",
            "repeated char:  d\n",
            "Single char:  d\n"
          ]
        }
      ]
    },
    {
      "cell_type": "markdown",
      "source": [
        "**13. Write a Python program that takes a string as user input and display the index of the characters in that string.**\n",
        "\n",
        "S#   |Input\t                        |\tOutput\n",
        "-----|------------------------------|-------------------------------\n",
        "(i)  |Enter a string: pizza         | Character p position at 0\n",
        "     |                              | Character i position at 1\n",
        "     |                              | Character z position at 2\n",
        "     |                              | Character z position at 3\n",
        "     |                              | Character a position at 4"
      ],
      "metadata": {
        "id": "YYVtX1BGhbQv"
      }
    },
    {
      "cell_type": "code",
      "source": [
        "# Write your code here\n",
        "a=input(\"Enter a string: \")\n",
        "for i in range(0,len(a)):\n",
        "  print(f\"Charecter {a[i]} oposition at {i}\")"
      ],
      "metadata": {
        "id": "JEWFy61qUQHT",
        "colab": {
          "base_uri": "https://localhost:8080/"
        },
        "outputId": "6f5cf30c-a644-4b7a-9e5f-6e7e69701222"
      },
      "execution_count": null,
      "outputs": [
        {
          "output_type": "stream",
          "name": "stdout",
          "text": [
            "Enter a string: hello\n",
            "Charecter h oposition at 0\n",
            "Charecter e oposition at 1\n",
            "Charecter l oposition at 2\n",
            "Charecter l oposition at 3\n",
            "Charecter o oposition at 4\n"
          ]
        }
      ]
    },
    {
      "cell_type": "markdown",
      "source": [
        "**14. Write a Python program that takes a string as user input and check if the string is palindrome or not. [A palindrome is a word, number, phrase, or other sequence of characters which reads the same backward as forward, such as madam or racecar.]**\n",
        "\n",
        "S#   |Input\t                        |\tOutput\n",
        "-----|------------------------------|-------------------------------\n",
        "(i)  |Enter a string: madam         | Palindrome\n",
        "(ii) |Enter a string: iub           | Not palindrome"
      ],
      "metadata": {
        "id": "WYTUhosbjkFv"
      }
    },
    {
      "cell_type": "code",
      "source": [
        "# Write your code here\n",
        "a=input(\"Enter a string: \")\n",
        "b= a[::-1]\n",
        "if a==b:\n",
        "  print(\"Palindrome\")\n",
        "else:\n",
        "  print(\"Not palindrome\")"
      ],
      "metadata": {
        "id": "ss1CSrxWUP3x",
        "colab": {
          "base_uri": "https://localhost:8080/"
        },
        "outputId": "c866cd7b-eb20-43fa-e6ac-f2fcfa85a31f"
      },
      "execution_count": null,
      "outputs": [
        {
          "output_type": "stream",
          "name": "stdout",
          "text": [
            "Enter a string: madam\n",
            "Palindrome\n"
          ]
        }
      ]
    },
    {
      "cell_type": "markdown",
      "source": [
        "**15. Write a Python program that takes a string as user input and moves spaces to the front of the given string.**\n",
        "![image.png](data:image/png;base64,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)"
      ],
      "metadata": {
        "id": "_R-X7WStk-K-"
      }
    },
    {
      "cell_type": "code",
      "source": [
        "# Write your code here\n",
        "string1=input(\"Enter a string : \")\n",
        "print(string1.replace(\" \",\"\"))\n"
      ],
      "metadata": {
        "id": "v0zbG1AOUPn0",
        "colab": {
          "base_uri": "https://localhost:8080/"
        },
        "outputId": "89d4e4e8-9284-4033-8b88-bca4f2517372"
      },
      "execution_count": null,
      "outputs": [
        {
          "output_type": "stream",
          "name": "stdout",
          "text": [
            "Enter a string : iub       iub\n",
            "iubiub\n"
          ]
        }
      ]
    },
    {
      "cell_type": "markdown",
      "source": [
        "**16. Write a function that takes an IUB student ID as a string parameter, then checks if the ID is valid. If the ID is valid the function returns true, otherwise it returns false.**\n",
        "\n",
        "Conditions of valid Student ID:\n",
        "*   Total 7 digits\n",
        "*   3rd digit must be 1 / 2/ 3"
      ],
      "metadata": {
        "id": "ZG99EOlTp3vn"
      }
    },
    {
      "cell_type": "code",
      "source": [
        "# Write your code here\n",
        "ID=(input(\"Enter ID: \"))\n",
        "def checkValidID():\n",
        "    if (len(ID)==7) and (ID[2]==\"1\" or ID[2]==\"2\" or ID[2]==\"3\"):\n",
        "            return True\n",
        "    else:\n",
        "        return False\n",
        "checkValidID()"
      ],
      "metadata": {
        "id": "NZd2Q81RUPXY",
        "colab": {
          "base_uri": "https://localhost:8080/"
        },
        "outputId": "54b3aa75-867e-438d-f0cd-1b963b8b057a"
      },
      "execution_count": null,
      "outputs": [
        {
          "name": "stdout",
          "output_type": "stream",
          "text": [
            "Enter ID: 1234567\n"
          ]
        },
        {
          "output_type": "execute_result",
          "data": {
            "text/plain": [
              "True"
            ]
          },
          "metadata": {},
          "execution_count": 13
        }
      ]
    },
    {
      "cell_type": "markdown",
      "source": [
        "**17. Write a Python program that takes a string as user input and creates two strings. Create the first string using those character which occurs only once and create the second string which consists of repeaded characters**\n",
        "\n",
        "S#   |Input\t                        |\tOutput\n",
        "-----|------------------------------|-------------------------------\n",
        "(i)  |Enter a string: trollhunters  | Repeated char string: trl\n",
        "     |                              | Single char string: ohunes"
      ],
      "metadata": {
        "id": "yuFhToJ7p7dc"
      }
    },
    {
      "cell_type": "code",
      "source": [
        "# Write your code here\n",
        "stirng1=input(\"Enter a string: \")\n",
        "for i in string1:\n",
        "  for j in string1:\n",
        "    if i==j:\n",
        "      a=i\n",
        "      print(i)"
      ],
      "metadata": {
        "id": "he32PRuAUPCE",
        "colab": {
          "base_uri": "https://localhost:8080/",
          "height": 263
        },
        "outputId": "7690a610-33a1-4f3d-d863-7139a7208ac0"
      },
      "execution_count": null,
      "outputs": [
        {
          "name": "stdout",
          "output_type": "stream",
          "text": [
            "Enter a string: okk\n"
          ]
        },
        {
          "output_type": "error",
          "ename": "NameError",
          "evalue": "ignored",
          "traceback": [
            "\u001b[0;31m---------------------------------------------------------------------------\u001b[0m",
            "\u001b[0;31mNameError\u001b[0m                                 Traceback (most recent call last)",
            "\u001b[0;32m<ipython-input-7-f988cb63af2b>\u001b[0m in \u001b[0;36m<module>\u001b[0;34m()\u001b[0m\n\u001b[1;32m      1\u001b[0m \u001b[0;31m# Write your code here\u001b[0m\u001b[0;34m\u001b[0m\u001b[0;34m\u001b[0m\u001b[0;34m\u001b[0m\u001b[0m\n\u001b[1;32m      2\u001b[0m \u001b[0mstirng1\u001b[0m\u001b[0;34m=\u001b[0m\u001b[0minput\u001b[0m\u001b[0;34m(\u001b[0m\u001b[0;34m\"Enter a string: \"\u001b[0m\u001b[0;34m)\u001b[0m\u001b[0;34m\u001b[0m\u001b[0;34m\u001b[0m\u001b[0m\n\u001b[0;32m----> 3\u001b[0;31m \u001b[0;32mfor\u001b[0m \u001b[0mi\u001b[0m \u001b[0;32min\u001b[0m \u001b[0mstring1\u001b[0m\u001b[0;34m:\u001b[0m\u001b[0;34m\u001b[0m\u001b[0;34m\u001b[0m\u001b[0m\n\u001b[0m\u001b[1;32m      4\u001b[0m   \u001b[0;32mfor\u001b[0m \u001b[0mj\u001b[0m \u001b[0;32min\u001b[0m \u001b[0mstring1\u001b[0m\u001b[0;34m:\u001b[0m\u001b[0;34m\u001b[0m\u001b[0;34m\u001b[0m\u001b[0m\n\u001b[1;32m      5\u001b[0m     \u001b[0;32mif\u001b[0m \u001b[0mi\u001b[0m\u001b[0;34m==\u001b[0m\u001b[0mj\u001b[0m\u001b[0;34m:\u001b[0m\u001b[0;34m\u001b[0m\u001b[0;34m\u001b[0m\u001b[0m\n",
            "\u001b[0;31mNameError\u001b[0m: name 'string1' is not defined"
          ]
        }
      ]
    },
    {
      "cell_type": "markdown",
      "source": [
        "**18. Write a Python program that takes two strings as user input and checks if one the string is a subset of another string or not.**\n",
        "\n",
        "S#   |Input\t                        |\tOutput\n",
        "-----|------------------------------|-------------------------------\n",
        "(i)  |Enter string1: trollhunters  | Yes\n",
        "     |Enter string2: hunter        |\n",
        "(ii) |Enter string1: Table Tennis  | No\n",
        "     |Enter string2: bat           |"
      ],
      "metadata": {
        "id": "enJAJfC-sgV_"
      }
    },
    {
      "cell_type": "code",
      "source": [
        "# Write your code here\n",
        "string1=input(\"Enter a string: \")\n",
        "string2=input(\"Enter a string: \")\n",
        "for i in string1:\n",
        "    for j in string2:\n",
        "        if i==j:\n",
        "            print(\"yes\")\n",
        "        else:\n",
        "            print(\"no\")"
      ],
      "metadata": {
        "id": "wylrPvYAUOyC",
        "colab": {
          "base_uri": "https://localhost:8080/"
        },
        "outputId": "75e2521f-fbbb-473c-85d0-a208b7be13dd"
      },
      "execution_count": null,
      "outputs": [
        {
          "output_type": "stream",
          "name": "stdout",
          "text": [
            "Enter a string: trollhunters\n",
            "Enter a string: hunter\n",
            "no\n",
            "no\n",
            "no\n",
            "yes\n",
            "no\n",
            "no\n",
            "no\n",
            "no\n",
            "no\n",
            "no\n",
            "no\n",
            "yes\n",
            "no\n",
            "no\n",
            "no\n",
            "no\n",
            "no\n",
            "no\n",
            "no\n",
            "no\n",
            "no\n",
            "no\n",
            "no\n",
            "no\n",
            "no\n",
            "no\n",
            "no\n",
            "no\n",
            "no\n",
            "no\n",
            "yes\n",
            "no\n",
            "no\n",
            "no\n",
            "no\n",
            "no\n",
            "no\n",
            "yes\n",
            "no\n",
            "no\n",
            "no\n",
            "no\n",
            "no\n",
            "no\n",
            "yes\n",
            "no\n",
            "no\n",
            "no\n",
            "no\n",
            "no\n",
            "no\n",
            "yes\n",
            "no\n",
            "no\n",
            "no\n",
            "no\n",
            "no\n",
            "no\n",
            "yes\n",
            "no\n",
            "no\n",
            "no\n",
            "no\n",
            "no\n",
            "no\n",
            "yes\n",
            "no\n",
            "no\n",
            "no\n",
            "no\n",
            "no\n",
            "no\n"
          ]
        }
      ]
    },
    {
      "cell_type": "markdown",
      "source": [
        "**19. Write a Python program to count Uppercase, Lowercase, special character and numeric values in a given string(User input).**\n",
        "\n",
        "S#   |Input\t                        |\tOutput\n",
        "-----|------------------------------|-------------------------------\n",
        "(i)  |Enter a string: IUB123@gmail.com |Upper case characters:  3\n",
        "     |                              |Lower case characters:  8\n",
        "     |                              |Number case:  3\n",
        "     |                              |Special case characters:  2"
      ],
      "metadata": {
        "id": "2_T1szIGuNOE"
      }
    },
    {
      "cell_type": "code",
      "source": [
        "# Write your code here\n",
        "string=input(\"Enter a string: \")\n",
        "lowercase=0\n",
        "uppercase=0\n",
        "specialcharacter=0\n",
        "for i in string:\n",
        "  if islower(i)==True:\n",
        "    lowercase=lowercase+1\n",
        "    print(\"lowercase\", lowercase)\n",
        "  if isupper(i)==True:\n",
        "    uppercase=uppercase+1\n",
        "    print(\"uppercase\", uppercase)\n"
      ],
      "metadata": {
        "id": "P0V2hIDNUOkh",
        "colab": {
          "base_uri": "https://localhost:8080/",
          "height": 252
        },
        "outputId": "7087b5fe-db97-45c5-d544-1f30e9ef5008"
      },
      "execution_count": null,
      "outputs": [
        {
          "name": "stdout",
          "output_type": "stream",
          "text": [
            "Enter a string: SdghlI\n"
          ]
        },
        {
          "output_type": "error",
          "ename": "NameError",
          "evalue": "ignored",
          "traceback": [
            "\u001b[0;31m---------------------------------------------------------------------------\u001b[0m",
            "\u001b[0;31mNameError\u001b[0m                                 Traceback (most recent call last)",
            "\u001b[0;32m<ipython-input-11-fa538b114cdb>\u001b[0m in \u001b[0;36m<module>\u001b[0;34m()\u001b[0m\n\u001b[1;32m      5\u001b[0m \u001b[0mspecialcharacter\u001b[0m\u001b[0;34m=\u001b[0m\u001b[0;36m0\u001b[0m\u001b[0;34m\u001b[0m\u001b[0;34m\u001b[0m\u001b[0m\n\u001b[1;32m      6\u001b[0m \u001b[0;32mfor\u001b[0m \u001b[0mi\u001b[0m \u001b[0;32min\u001b[0m \u001b[0mstring\u001b[0m\u001b[0;34m:\u001b[0m\u001b[0;34m\u001b[0m\u001b[0;34m\u001b[0m\u001b[0m\n\u001b[0;32m----> 7\u001b[0;31m   \u001b[0;32mif\u001b[0m \u001b[0mislower\u001b[0m\u001b[0;34m(\u001b[0m\u001b[0mi\u001b[0m\u001b[0;34m)\u001b[0m\u001b[0;34m==\u001b[0m\u001b[0;32mTrue\u001b[0m\u001b[0;34m:\u001b[0m\u001b[0;34m\u001b[0m\u001b[0;34m\u001b[0m\u001b[0m\n\u001b[0m\u001b[1;32m      8\u001b[0m     \u001b[0mlowercase\u001b[0m\u001b[0;34m=\u001b[0m\u001b[0mlowercase\u001b[0m\u001b[0;34m+\u001b[0m\u001b[0;36m1\u001b[0m\u001b[0;34m\u001b[0m\u001b[0;34m\u001b[0m\u001b[0m\n\u001b[1;32m      9\u001b[0m     \u001b[0mprint\u001b[0m\u001b[0;34m(\u001b[0m\u001b[0;34m\"lowercase\"\u001b[0m\u001b[0;34m,\u001b[0m \u001b[0mlowercase\u001b[0m\u001b[0;34m)\u001b[0m\u001b[0;34m\u001b[0m\u001b[0;34m\u001b[0m\u001b[0m\n",
            "\u001b[0;31mNameError\u001b[0m: name 'islower' is not defined"
          ]
        }
      ]
    },
    {
      "cell_type": "markdown",
      "source": [
        "**20. Write a Python program that takes a string as user input and find the smallest word in the given string.**\n",
        "\n",
        "S#   |Input\t                        |\tOutput\n",
        "-----|------------------------------|-------------------------------\n",
        "(i)  |Enter a string: i am a student| Smallest word: i"
      ],
      "metadata": {
        "id": "l2bK9_R4vlyu"
      }
    },
    {
      "cell_type": "code",
      "source": [
        "string= input(\"Enter a string: \")\n",
        "sep=string.split()\n",
        "print(min(sep))"
      ],
      "metadata": {
        "id": "tIX4gzZ9UOUh",
        "colab": {
          "base_uri": "https://localhost:8080/"
        },
        "outputId": "93fa1681-568b-43db-ec68-38570bb4565f"
      },
      "execution_count": null,
      "outputs": [
        {
          "output_type": "stream",
          "name": "stdout",
          "text": [
            "Enter a string: i am a student\n",
            "a\n"
          ]
        }
      ]
    },
    {
      "cell_type": "markdown",
      "source": [
        "**21. Write a Python program that takes a string as user input and find the largest word in the given string.**\n",
        "\n",
        "S#   |Input\t                        |\tOutput\n",
        "-----|------------------------------|-------------------------------\n",
        "(i)  |Enter a string: i am a student| Largest word: student"
      ],
      "metadata": {
        "id": "VewDD1vYwXu-"
      }
    },
    {
      "cell_type": "code",
      "source": [
        "string= input(\"Enter a string: \")\n",
        "sep=string.split()\n",
        "print(max(sep))\n"
      ],
      "metadata": {
        "id": "2RhrvxpVUOGB",
        "colab": {
          "base_uri": "https://localhost:8080/"
        },
        "outputId": "7538d391-b764-467e-b135-bafdad42ea7d"
      },
      "execution_count": null,
      "outputs": [
        {
          "output_type": "stream",
          "name": "stdout",
          "text": [
            "Enter a string: i am a student\n",
            "student\n"
          ]
        }
      ]
    },
    {
      "cell_type": "markdown",
      "source": [
        "**22. Write a Python program that takes a string as user input and removes unwanted characters from the given string. [Without alphabets all the char are unwanted]**\n",
        "\n",
        "S#   |Input\t                        |\tOutput\n",
        "-----|------------------------------|-------------------------------\n",
        "(i)  |Enter a string: Pyt^&ho@n     | After removing unwanted char: Python\n",
        "(ii) |Enter a string: He123ll(o     | After removing unwanted char: Hello"
      ],
      "metadata": {
        "id": "G7uZBdwtwgwf"
      }
    },
    {
      "cell_type": "code",
      "source": [
        "# Write your code here\n",
        "string = input(\"enter string: \")\n",
        "alpha = \"\"\n",
        "for c in string:\n",
        "    if c.isalpha():\n",
        "        alpha = alpha + c\n",
        "print(\"Extract alphabet : \" +  alpha)"
      ],
      "metadata": {
        "id": "N3zcvbWyUN4T",
        "colab": {
          "base_uri": "https://localhost:8080/"
        },
        "outputId": "ef5961ff-0abc-438b-924e-01f33c8aac79"
      },
      "execution_count": null,
      "outputs": [
        {
          "output_type": "stream",
          "name": "stdout",
          "text": [
            "enter string: Pyt^&hon\n",
            "Extract alphabet : Python\n"
          ]
        }
      ]
    },
    {
      "cell_type": "markdown",
      "source": [
        "**23. Write a Python program to extract numbers from a given string(User input).**\n",
        "\n",
        "S#   |Input\t                        |\tOutput\n",
        "-----|------------------------------|-------------------------------\n",
        "(i)  |Enter a string: iub 12 a 3    | Extract numbers: 12 3"
      ],
      "metadata": {
        "id": "52M2vRtYxsAe"
      }
    },
    {
      "cell_type": "code",
      "source": [
        "# Write your code here\n",
        "string=input(\"Enter a string: \")\n",
        "string1=[\"0\",\"1\",\"2\",\"3\",\"4\",\"5\",\"6\",\"7\",\"8\",\"9\"]\n",
        "print(\"Extract number: \",end=\"\")\n",
        "for i in string:\n",
        "    for j in string1:\n",
        "        if (i==j):\n",
        "         print(i,end=\" \")\n"
      ],
      "metadata": {
        "id": "fNVVIqovUNrT",
        "colab": {
          "base_uri": "https://localhost:8080/"
        },
        "outputId": "ccab5bd0-b31e-48cf-9efc-f356e039a156"
      },
      "execution_count": null,
      "outputs": [
        {
          "output_type": "stream",
          "name": "stdout",
          "text": [
            "Enter a string: iub 12 a 3\n",
            "Extract number: 1 2 3 "
          ]
        }
      ]
    },
    {
      "cell_type": "markdown",
      "source": [
        "**24. Write a python program that takes a sentence from user and print the words of that sentence separately.**\n",
        "\n",
        "S#   |Input\t                        |\tOutput\n",
        "-----|------------------------------|-------------------------------\n",
        "(i)  |Enter a string: i am a student    | Words are:\n",
        "      |                             |i\n",
        "      |                             |am\n",
        "      |                             |a\n",
        "      |                             |student"
      ],
      "metadata": {
        "id": "SKywdn02zVlu"
      }
    },
    {
      "cell_type": "code",
      "source": [
        "# Write your code here\n",
        "string= input(\"Enter a string: \")\n",
        "sep=string.split()\n",
        "print(\"\\n\".join(sep))"
      ],
      "metadata": {
        "id": "80mhEuv1UNc6",
        "colab": {
          "base_uri": "https://localhost:8080/"
        },
        "outputId": "5b1a389f-f121-4685-eafa-3568618fa84c"
      },
      "execution_count": null,
      "outputs": [
        {
          "output_type": "stream",
          "name": "stdout",
          "text": [
            "Enter a string: I am a student\n",
            "I\n",
            "am\n",
            "a\n",
            "student\n"
          ]
        }
      ]
    },
    {
      "cell_type": "markdown",
      "source": [
        "**25. Write a function in python program named *switch_pairs* that accepts a string as a parameter and returns that string with each pair of neighboring letters reversed. If the string has an odd number of letters, the last letter should not be modified. For example, the call switch_pairs(\"example\") should return \"xemalpe\" and the call switch_pairs(\"hello there\") should return \"ehll ohtree\".**"
      ],
      "metadata": {
        "id": "m5VVxor21fUy"
      }
    },
    {
      "cell_type": "code",
      "source": [
        "# Write your code here\n",
        "def switch_pairs(st):\n",
        "    st2 = ''\n",
        "    for i in range(0, len(st)-1, 2):\n",
        "        st2 = st2 + st[i+1] + st[i]\n",
        "\n",
        "    if(len(st)%2 == 1):\n",
        "        st2 = st2 + st[len(st)-1]\n",
        "    return st2\n",
        "\n",
        "print(switch_pairs(\"example\"))\n",
        "print(switch_pairs(\"hello there\"))"
      ],
      "metadata": {
        "id": "sZIYYWzbUNOx"
      },
      "execution_count": null,
      "outputs": []
    },
    {
      "cell_type": "markdown",
      "source": [
        "**26. Write a function named name_diamond that accepts a string as a parameter and prints it in a \"diamond\" format as shown below. For example, the call of name_diamond(\"MARTY\") should print:**\n",
        "\n",
        "![image.png](data:image/png;base64,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)"
      ],
      "metadata": {
        "id": "REEy_XFZ34HE"
      }
    },
    {
      "cell_type": "code",
      "source": [
        "# Write your code here\n",
        "def name_diamond(st):\n",
        "  for i in range(len(st)):\n",
        "    print(st[:i+1])\n",
        "  for i in range(len(st)-1):\n",
        "    for j in range(i+1):\n",
        "      print(end=\" \")\n",
        "    print(st[i+1:])\n",
        "name_diamond(\"MARTY\")"
      ],
      "metadata": {
        "id": "2qt4W7rf4u5h"
      },
      "execution_count": null,
      "outputs": []
    },
    {
      "cell_type": "markdown",
      "source": [
        "**27. Write a function named is_all_vowels that returns whether a string consists entirely of vowels (a, e, i, o, or u, case-insensitively). For example, is_all_vowels(\"ei_e_io\") should return True while is_all_vowels(\"banana\") should return False. For this problem, you may assume that a working solution already exists to the previous problem, is_vowel, and you may call it in your solution.**"
      ],
      "metadata": {
        "id": "-vllN14B4mJ6"
      }
    },
    {
      "cell_type": "code",
      "source": [
        "# Write your code here\n",
        "def is_all_vowels(st):\n",
        "  st = st.lower()\n",
        "  vowel = ['a', 'e', 'i', 'o', 'u']\n",
        "  for i in range(len(st)):\n",
        "    if((st[i]>=\"a\" and st[i]<=\"z\") and st[i] not in vowel):\n",
        "      return False\n",
        "  return True\n",
        "print(is_all_vowels(\"banana\"))"
      ],
      "metadata": {
        "id": "sxeQ8md034uE"
      },
      "execution_count": null,
      "outputs": []
    },
    {
      "cell_type": "markdown",
      "source": [
        "**28. Write a function named stutter that accepts a string parameter returns a new string replacing each of its characters with two consecutive copies of that character. For example, A call of stutter(\"hello\") would return \"hheelllloo\".**"
      ],
      "metadata": {
        "id": "a5ySFJjS4wl0"
      }
    },
    {
      "cell_type": "code",
      "source": [
        "# Write your code here\n",
        "def stutter(st):\n",
        "  st2 = ''\n",
        "  for i in st:\n",
        "    st2 = st2+i+i\n",
        "  return st2\n",
        "\n",
        "print(stutter(\"hello\"))"
      ],
      "metadata": {
        "id": "s3x-EZdF4xeh"
      },
      "execution_count": null,
      "outputs": []
    },
    {
      "cell_type": "markdown",
      "source": [
        "**29. Write a function named convert_to_alt_caps that accepts a string as a parameter and returns a version of the string where alternating letters are uppercase and lowercase, starting with the first letter in lowercase. For example, the call of convert_to_alt_caps(\"Pikachu\") should return \"pIkAcHu\".**"
      ],
      "metadata": {
        "id": "6JgbFSAL5i4y"
      }
    },
    {
      "cell_type": "code",
      "source": [
        "# Write your code here\n",
        "def convert_to_alt_caps(st):\n",
        "  st2 = ''\n",
        "  for i in range(len(st)):\n",
        "    if(i%2 == 0):\n",
        "      st2 = st2 + st[i].lower()\n",
        "    else:\n",
        "      st2 = st2 + st[i].upper()\n",
        "  return st2\n",
        "\n",
        "print(convert_to_alt_caps(\"Pikachu\"))\n"
      ],
      "metadata": {
        "id": "l3DBEt8Z4yyU"
      },
      "execution_count": null,
      "outputs": []
    },
    {
      "cell_type": "markdown",
      "source": [
        "**30. Write a function named second_half_letters that accepts a string as its parameter and returns an integer representing how many of letters in the string come from the second half of the alphabet (that is, have values of 'n' through 'z' inclusive). Compare case-insensitively, such that uppercase values of 'N' through 'Z' also count. For example, the call of second_half_letters(\"ruminates\") should return 5 because the 'r', 'u', 'n', 't', and 's' come from the second half of the alphabet. You may assume that every character in the string is a letter.**"
      ],
      "metadata": {
        "id": "uDng3_fB5sxX"
      }
    },
    {
      "cell_type": "code",
      "source": [
        "# Write your code here\n",
        "def second_half_letter(st):\n",
        "  st = st.upper()\n",
        "  cnt = 0\n",
        "  for i in range(len(st)):\n",
        "    if(ord(st[i]) >= ord('N') and ord(st[i]) <= ord('Z')):\n",
        "      cnt+=1\n",
        "  return cnt\n",
        "\n",
        "print(second_half_letter(\"ruminaTeS\"))\n",
        "print(second_half_letter(\"abxz\"))\n",
        "print(second_half_letter(\"zzzz\"))"
      ],
      "metadata": {
        "id": "zpZAFLBQ4zY5"
      },
      "execution_count": null,
      "outputs": []
    }
  ]
}