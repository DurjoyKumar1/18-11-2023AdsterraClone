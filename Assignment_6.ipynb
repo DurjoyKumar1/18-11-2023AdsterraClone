{
  "nbformat": 4,
  "nbformat_minor": 0,
  "metadata": {
    "colab": {
      "provenance": [],
      "authorship_tag": "ABX9TyPwEFurW85maFF4T8B3fOvr",
      "include_colab_link": true
    },
    "kernelspec": {
      "name": "python3",
      "display_name": "Python 3"
    },
    "language_info": {
      "name": "python"
    }
  },
  "cells": [
    {
      "cell_type": "markdown",
      "metadata": {
        "id": "view-in-github",
        "colab_type": "text"
      },
      "source": [
        "<a href=\"https://colab.research.google.com/github/DurjoyKumar1/18-11-2023AdsterraClone/blob/main/Assignment_6.ipynb\" target=\"_parent\"><img src=\"https://colab.research.google.com/assets/colab-badge.svg\" alt=\"Open In Colab\"/></a>"
      ]
    },
    {
      "cell_type": "markdown",
      "source": [
        "#Ans OF Q1:\n",
        "Print() function can print any thing what include inside of first bracket. In here print() function will print the list Price_list.\n",
        "\n",
        "If there were 1000 items in the list, print() function also print all the items inside Price_list."
      ],
      "metadata": {
        "id": "cprw056FiC9H"
      }
    },
    {
      "cell_type": "markdown",
      "source": [
        "#Ans of Q2:\n"
      ],
      "metadata": {
        "id": "8wOpjGZCj7-s"
      }
    },
    {
      "cell_type": "markdown",
      "source": [
        "Given that,\n",
        "Price_list = [\"Banana\", 5.00, \"Mango\", 20.00, \"Apple\", 15.00, \"Papaya\", 25.00, \"Guava\", 15.00]  \n",
        "print(Price_list[0])\n",
        "\n",
        "To print Guava  15.00 on the screen, we need to change index value inside the print() function. we need to replace 8:10 with 0, what I mentioned bellow by code."
      ],
      "metadata": {
        "id": "kkTRz5h8kFIl"
      }
    },
    {
      "cell_type": "code",
      "execution_count": null,
      "metadata": {
        "id": "XQcq6KAFfPmy",
        "colab": {
          "base_uri": "https://localhost:8080/"
        },
        "outputId": "300974e6-94d4-4127-a78e-671c1838f623"
      },
      "outputs": [
        {
          "output_type": "stream",
          "name": "stdout",
          "text": [
            "['Guava', 15.0]\n"
          ]
        }
      ],
      "source": [
        "Price_list = [\"Banana\", 5.00, \"Mango\", 20.00, \"Apple\", 15.00, \"Papaya\", 25.00, \"Guava\", 15.00]\n",
        "print(Price_list[8:10])"
      ]
    },
    {
      "cell_type": "markdown",
      "source": [
        "#Ans of Q3:"
      ],
      "metadata": {
        "id": "exGCatAolw4V"
      }
    },
    {
      "cell_type": "code",
      "source": [
        "Price_list = [\"Banana\", 5.00, \"Mango\", 20.00, \"Apple\", 15.00, \"Papaya\", 25.00, \"Guava\", 15.00]\n",
        "print(Price_list[0:len(Price_list)])"
      ],
      "metadata": {
        "colab": {
          "base_uri": "https://localhost:8080/"
        },
        "id": "S8jTkAt1l3Oe",
        "outputId": "e10819fc-d146-45bd-f53d-afcc941c8eab"
      },
      "execution_count": null,
      "outputs": [
        {
          "output_type": "stream",
          "name": "stdout",
          "text": [
            "['Banana', 5.0, 'Mango', 20.0, 'Apple', 15.0, 'Papaya', 25.0, 'Guava', 15.0]\n"
          ]
        }
      ]
    },
    {
      "cell_type": "markdown",
      "source": [
        "I used only one time print statement for showing Price_list on the screen."
      ],
      "metadata": {
        "id": "oUI4coyblzcf"
      }
    },
    {
      "cell_type": "markdown",
      "source": [
        "#Ans of question 4"
      ],
      "metadata": {
        "id": "qkFlXVhVnQrD"
      }
    },
    {
      "cell_type": "markdown",
      "source": [
        "The program will print:\n",
        "Banana\n",
        "5.0\n",
        "Mango\n",
        "20.0\n",
        "Apple\n",
        "15.0\n",
        "Papaya\n",
        "25.0\n",
        "Guava\n",
        "15.0"
      ],
      "metadata": {
        "id": "OgGjJWpFnT4q"
      }
    },
    {
      "cell_type": "markdown",
      "source": [
        "#Ans of question 5"
      ],
      "metadata": {
        "id": "TBzpiw1nnbAl"
      }
    },
    {
      "cell_type": "markdown",
      "source": [
        "**for:** In here for is used as loop for do the same work.\n",
        "\n",
        "**i:** i is used as index value inside the range\n",
        "\n",
        "**range:**range is used to declare limitation of how many time run for loop.\n",
        "\n",
        "**0:**0 is the initial value of range.\n",
        "\n",
        "**10:** 10 is used for fixed how many time for loop run. Basically for loop was run one time less then the final value."
      ],
      "metadata": {
        "id": "c0k4FYpxneej"
      }
    },
    {
      "cell_type": "markdown",
      "source": [
        "#Ans of Q7"
      ],
      "metadata": {
        "id": "8bEcK67Ypni0"
      }
    },
    {
      "cell_type": "markdown",
      "source": [
        "When we run the program there will show the list index out of range error. Because inside of print function we take i+1. where maximum value of i is 9 and initial value 0. and Price_list item is 10. It will print properly if maximum item inside the list and index value is equal or less. When index value will i+1, then it should print more one value from Price_list. which is not possible. So, if we want to run this program properly then we need to exclude +1 from i+1."
      ],
      "metadata": {
        "id": "mGwgeqq3pp47"
      }
    },
    {
      "cell_type": "markdown",
      "source": [
        "#Ans of Q8"
      ],
      "metadata": {
        "id": "JZDzbrMWtPI4"
      }
    },
    {
      "cell_type": "code",
      "source": [
        "Price_list = [\"Banana\", 5.00, \"Mango\", 20.00, \"Apple\", 15.00, \"Papaya\", 25.00, \"Guava\", 15.00]\n",
        "print(\"Price List:\")\n",
        "print(\"-----------\")\n",
        "for i in range(0, 10, 2):\n",
        "  print(Price_list[i],Price_list[i+1])"
      ],
      "metadata": {
        "colab": {
          "base_uri": "https://localhost:8080/"
        },
        "id": "L_Ay43E7tRN9",
        "outputId": "e6fbbd74-3e5d-49a7-c518-a762f374eed4"
      },
      "execution_count": null,
      "outputs": [
        {
          "output_type": "stream",
          "name": "stdout",
          "text": [
            "Price List:\n",
            "-----------\n",
            "Banana 5.0\n",
            "Mango 20.0\n",
            "Apple 15.0\n",
            "Papaya 25.0\n",
            "Guava 15.0\n"
          ]
        }
      ]
    },
    {
      "cell_type": "markdown",
      "source": [
        "In this case, we fixed 2 as step of index value inside range. Here maximum value of i is 8. That's why when i+1 was used as index value, the maximum value was 9, which is exist in the list Price_list. That's why it was run properly but for ver1 index value is out of range."
      ],
      "metadata": {
        "id": "_S7qeR2Mt0bm"
      }
    },
    {
      "cell_type": "markdown",
      "source": [
        "#Ans of Q9"
      ],
      "metadata": {
        "id": "S8uYTAhIvDqC"
      }
    },
    {
      "cell_type": "markdown",
      "source": [
        "The range function(0,10,2) work better in this case because here we fixed 2 as step of index value inside range. Here maximum value of i is 8. That's why when i+1 was used as index value, the maximum value was 9, which is exist in the list Price_list. That's why it was run properly and works better."
      ],
      "metadata": {
        "id": "bKol5Q2GvG04"
      }
    }
  ]
}